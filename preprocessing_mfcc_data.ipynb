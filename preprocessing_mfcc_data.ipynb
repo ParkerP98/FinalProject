{
 "cells": [
  {
   "cell_type": "code",
   "execution_count": 7,
   "metadata": {},
   "outputs": [],
   "source": [
    "import librosa\n",
    "import librosa.display\n",
    "import numpy as np\n",
    "import matplotlib.pyplot as plt\n",
    "import pandas as pd\n",
    "import json\n",
    "import math\n",
    "import os"
   ]
  },
  {
   "cell_type": "code",
   "execution_count": 8,
   "metadata": {},
   "outputs": [],
   "source": [
    "folder = '/Users/parkerprowell/Desktop/DEV/audio_cat_ML/genres'\n",
    "genre_folders = [ f.path for f in os.scandir(folder) if f.is_dir() ]"
   ]
  },
  {
   "cell_type": "code",
   "execution_count": 9,
   "metadata": {},
   "outputs": [],
   "source": [
    "JSON_OUTPUT = 'mfcc_extract.json'\n",
    "SAMPLE_RATE = 22050\n",
    "TRACK_DURATION = 30 # measured in seconds\n",
    "SAMPLES_PER_TRACK = SAMPLE_RATE * TRACK_DURATION\n",
    "#_______________________________________________________________________\n",
    "\n",
    "num_mfcc=13\n",
    "n_fft=2048\n",
    "hop_length=512\n",
    "num_segments=5\n",
    "samples_per_segment = int(SAMPLES_PER_TRACK / num_segments)\n",
    "num_mfcc_vectors_per_segment = math.ceil(samples_per_segment / hop_length)\n",
    "#_______________________________________________________________________\n",
    "\n",
    "data = {\n",
    "        'genre_labels': [],\n",
    "        'genre_id': [],\n",
    "        'mfcc': []\n",
    "    }"
   ]
  },
  {
   "cell_type": "code",
   "execution_count": 10,
   "metadata": {},
   "outputs": [],
   "source": [
    "genre_labels = []\n",
    "for f in genre_folders:\n",
    "    genre_labels.append(f.split('/')[-1])\n",
    "\n",
    "data['genre_labels'] = genre_labels"
   ]
  },
  {
   "cell_type": "code",
   "execution_count": 14,
   "metadata": {},
   "outputs": [
    {
     "data": {
      "text/plain": [
       "['pop',\n",
       " 'metal',\n",
       " 'disco',\n",
       " 'blues',\n",
       " 'reggae',\n",
       " 'classical',\n",
       " 'rock',\n",
       " 'hiphop',\n",
       " 'country',\n",
       " 'jazz']"
      ]
     },
     "execution_count": 14,
     "metadata": {},
     "output_type": "execute_result"
    }
   ],
   "source": [
    "genre_labels"
   ]
  },
  {
   "cell_type": "code",
   "execution_count": null,
   "metadata": {},
   "outputs": [],
   "source": [
    "for i, directory in enumerate(genre_folders):\n",
    "    for j, filename in enumerate(os.listdir(directory)):\n",
    "        if filename.endswith(\".mp3\") or filename.endswith(\".wav\"):\n",
    "            print(f\"\"\"_____________________________________\n",
    "                    File: {filename}\n",
    "                    Genre: {genre_labels[i]}\n",
    "                    Genre ID: {i}\n",
    "                    Track #: {j}\n",
    "                    _____________________________________\"\"\")\n",
    "            \n",
    "            file_loc = directory+'/'+filename\n",
    "            #                                                         * load audio file into numpy array through librosa\n",
    "            y, sr = librosa.load(file_loc, sr=SAMPLE_RATE)\n",
    "            #                                                         * segment auio into 5 three second portions (artificially enlarging our dataset)\n",
    "            for segment in range(num_segments):\n",
    "                start = segment * samples_per_segment\n",
    "                end = start + samples_per_segment\n",
    "                \n",
    "                mfcc = librosa.feature.mfcc(y[start:end], \n",
    "                                            sr, \n",
    "                                            n_mfcc=num_mfcc, \n",
    "                                            n_fft=n_fft, \n",
    "                                            hop_length=hop_length)\n",
    "                mfcc = mfcc.T\n",
    "                \n",
    "                #                                                     * our data needs to be the same shape, therefor must contain a constant # of vectors\n",
    "                if len(mfcc) == num_mfcc_vectors_per_segment:\n",
    "                        data[\"mfcc\"].append(mfcc.tolist())\n",
    "                        data[\"genre_id\"].append(i)\n",
    "                        if segment == num_segments-1:\n",
    "                            print(f'{segment+1}/{num_segments}\\n{filename} Processing Completed')\n",
    "                        else:\n",
    "                            print(f'{segment+1}/{num_segments}')"
   ]
  },
  {
   "cell_type": "code",
   "execution_count": 6,
   "metadata": {},
   "outputs": [],
   "source": [
    "with open('mfcc_extract(3,000-10sec).json', 'w') as outfile:\n",
    "    json.dump(data, outfile, indent=4)"
   ]
  },
  {
   "cell_type": "code",
   "execution_count": null,
   "metadata": {},
   "outputs": [],
   "source": [
    "data['genre_id']"
   ]
  },
  {
   "cell_type": "code",
   "execution_count": null,
   "metadata": {},
   "outputs": [],
   "source": []
  }
 ],
 "metadata": {
  "kernelspec": {
   "display_name": "Python 3",
   "language": "python",
   "name": "python3"
  },
  "language_info": {
   "codemirror_mode": {
    "name": "ipython",
    "version": 3
   },
   "file_extension": ".py",
   "mimetype": "text/x-python",
   "name": "python",
   "nbconvert_exporter": "python",
   "pygments_lexer": "ipython3",
   "version": "3.7.6"
  }
 },
 "nbformat": 4,
 "nbformat_minor": 4
}
